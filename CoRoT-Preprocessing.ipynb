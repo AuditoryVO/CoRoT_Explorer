{
 "cells": [
  {
   "cell_type": "markdown",
   "id": "1b8f1cbd",
   "metadata": {},
   "source": [
    "## Preprocessing IAS CoRoT lightcurves for real time spatialized Sonification\n",
    "\n",
    "Data download: http://idoc-corot.ias.u-psud.fr/sitools/client-user/COROT_N2_PUBLIC_DATA/project-index.html\n",
    "\n",
    "The CoRoT space mission, launched on 2006 December 27, was developed and operated by the CNES, with participation of the Science Programs of ESA, ESA's RSSD, Austria, Belgium, Brazil, Germany and Spain.\n"
   ]
  },
  {
   "cell_type": "code",
   "execution_count": null,
   "id": "26a447f2",
   "metadata": {},
   "outputs": [],
   "source": [
    "from astropy.io import fits\n",
    "from astropy.timeseries import BoxLeastSquares\n",
    "import matplotlib.pylab as plt\n",
    "import numpy as np\n",
    "\n",
    "import os\n",
    "from pathlib import Path"
   ]
  },
  {
   "cell_type": "code",
   "execution_count": null,
   "id": "4526d867",
   "metadata": {},
   "outputs": [],
   "source": [
    "from astropy.coordinates import SkyCoord\n",
    "from astropy.visualization.wcsaxes.frame import EllipticalFrame\n",
    "from astropy.coordinates import Angle, SkyCoord\n",
    "from mocpy import MOC, World2ScreenMPL\n",
    "import astropy.units as u"
   ]
  },
  {
   "cell_type": "code",
   "execution_count": null,
   "id": "85a23eac",
   "metadata": {},
   "outputs": [],
   "source": [
    "import session_info\n",
    "session_info.show()"
   ]
  },
  {
   "cell_type": "code",
   "execution_count": null,
   "id": "d65a975d",
   "metadata": {},
   "outputs": [],
   "source": [
    "root = \"#####YOUR PATH TO THE DOWNLOADED LIGHT CURVE FOLDER#####\"\n",
    "file = \"EN2_STAR_MON_0400007538_20111201T181527_20120109T103228.fits\"\n",
    "path = root + \"/\" + file"
   ]
  },
  {
   "cell_type": "markdown",
   "id": "8d608a85",
   "metadata": {},
   "source": [
    "### Opening one light curve and looking at the data"
   ]
  },
  {
   "cell_type": "code",
   "execution_count": null,
   "id": "aebed5bf",
   "metadata": {},
   "outputs": [],
   "source": [
    "fits.getdata(path, ext=1).columns\n",
    "with fits.open(path, mode=\"readonly\") as hdulist:\n",
    "    jds = hdulist[1].data['DATETT']\n",
    "    white_flux = hdulist[1].data['WHITEFLUX']\n",
    "    mk = hdulist[0].header['SPECTYPE']\n",
    "    lum_class = hdulist[0].header['LUMCLASS']\n",
    "    rms = hdulist[0].header['LC_RMS']\n",
    "    mean = hdulist[0].header['LC_mean']\n",
    "    ra = hdulist[0].header['ALPHA']\n",
    "    dec = hdulist[0].header['DELTA'] \n",
    "    data_dim = hdulist[1].header['NAXIS2']\n",
    "    \n",
    "hdulist.close()  \n",
    "\n",
    "model = BoxLeastSquares(jds, white_flux)\n",
    "results = model.autopower(0.16)\n",
    "best_fit = results.period[np.argmax(results.power)]      \n",
    "    \n",
    "fig, ax = plt.subplots()\n",
    "fig.set_size_inches(12., 8.)\n",
    "ax.plot(jds, white_flux, 'r.')\n",
    "ax.set_ylim((mean - 10000), (mean + 10000))\n",
    "\n",
    "fig.suptitle(file)\n",
    "ax.set_ylabel(\"White Flux (e-/32s)\")\n",
    "ax.set_xlabel(\"Time (JD)\")\n",
    "\n",
    "print(file)\n",
    "print(\"Spectral type: \", mk)\n",
    "print(\"Luminosity class: \", lum_class)\n",
    "print(\"LC RMS: \", rms)\n",
    "print(\"LC Mean: \", mean)\n",
    "print(\"RA: \", ra)\n",
    "print(\"DEC: \", dec)\n",
    "print(\"Bes fit period: \", round(best_fit, 3), \"days\")"
   ]
  },
  {
   "cell_type": "markdown",
   "id": "1335de47",
   "metadata": {},
   "source": [
    "### Counting the files in the archive"
   ]
  },
  {
   "cell_type": "code",
   "execution_count": null,
   "id": "1a920d4d",
   "metadata": {},
   "outputs": [],
   "source": [
    "num = 1\n",
    "dim1 = data_dim\n",
    "for path, subdirs, files in os.walk(root):\n",
    "    for name in files:\n",
    "        num += 1        \n",
    "print(num)\n",
    "print(dim1)"
   ]
  },
  {
   "cell_type": "markdown",
   "id": "74897d2f",
   "metadata": {},
   "source": [
    "### Loading the complete CoRoT archive"
   ]
  },
  {
   "cell_type": "code",
   "execution_count": null,
   "id": "6db3ed98",
   "metadata": {
    "scrolled": true
   },
   "outputs": [],
   "source": [
    "curves = 0\n",
    "flux_data = []\n",
    "jds_data = []\n",
    "\n",
    "lc_set = [''] * num \n",
    "\n",
    "mk_list = []\n",
    "lumclass_list = []\n",
    "rms_list = []\n",
    "mean_list = []\n",
    "ra_list = []\n",
    "dec_list = []\n",
    "period_list = []\n",
    "names_list = []\n",
    "dimensions_list = []\n",
    "\n",
    "for path, subdirs, files in os.walk(root):\n",
    "    for name in files:\n",
    "        file = [os.path.join(path, name)]\n",
    "        str = \" \" \n",
    "        Ffile = (str.join(file))\n",
    "        route = Path(name)\n",
    "        Fname = route.with_suffix('')\n",
    "        Fpng = route.with_suffix('.png')\n",
    "        \n",
    "        print(\"____________________________________\")\n",
    "        print(\"Loading data: light curve \", curves+1)\n",
    "        print(name)\n",
    "        names_list.append(name)\n",
    "        fits.getdata(Ffile, ext=1).columns\n",
    "        with fits.open(Ffile, mode=\"readonly\") as hdulist:\n",
    " \n",
    "            try:\n",
    "                jds = hdulist[1].data['DATETT']\n",
    "                white_flux = hdulist[1].data['WHITEFLUX']\n",
    "                mk = hdulist[0].header['SPECTYPE']\n",
    "                lum_class = hdulist[0].header['LUMCLASS']\n",
    "                rms = hdulist[0].header['LC_RMS']\n",
    "                mean = hdulist[0].header['LC_mean']\n",
    "                ra = hdulist[0].header['ALPHA']\n",
    "                dec = hdulist[0].header['DELTA'] \n",
    "                dimension = hdulist[1].header['NAXIS2']\n",
    "            except:\n",
    "                print(\"-------------------------------\")\n",
    "                print(\"Error loading mean and rms. Recalculating values\")\n",
    "                jds = hdulist[1].data['DATETT']\n",
    "                white_flux = hdulist[1].data['WHITEFLUX']\n",
    "                mk = hdulist[0].header['SPECTYPE']\n",
    "                lum_class = hdulist[0].header['LUMCLASS']\n",
    "                rms = np.sqrt(np.mean(white_flux**2))\n",
    "                mean = np.mean(white_flux)\n",
    "                ra = hdulist[0].header['ALPHA']\n",
    "                dec = hdulist[0].header['DELTA'] \n",
    "                dimension = hdulist[1].header['NAXIS2']\n",
    "\n",
    "\n",
    "        hdulist.close()\n",
    "        \n",
    "        #Box Least Squares Periodogram analysis\n",
    "        model = BoxLeastSquares(jds, white_flux)\n",
    "        results = model.autopower(0.2) #0.16\n",
    "        best_fit = results.period[np.argmax(results.power)] \n",
    "\n",
    "        \n",
    "        flux_data.append(white_flux)\n",
    "        jds_data.append(jds)\n",
    "        mk_list.append(mk)\n",
    "        lumclass_list.append(lum_class)\n",
    "        rms_list.append(rms)\n",
    "        mean_list.append(mean)\n",
    "        ra_list.append(ra)\n",
    "        dec_list.append(dec)\n",
    "        period_list.append(best_fit)\n",
    "        dimensions_list.append(dimension)\n",
    "          \n",
    "        median = np.median(white_flux)\n",
    "        \n",
    "        fig, ax = plt.subplots()\n",
    "        fig.set_size_inches(12., 8.)\n",
    "        ax.plot(jds, white_flux, 'r.')\n",
    "        ax.set_ylim((median - 10000), (median + 10000))\n",
    "\n",
    "        fig.suptitle(name)\n",
    "        ax.set_ylabel(\"White Flux (e-/32s)\")\n",
    "        ax.set_xlabel(\"Time (JD)\")\n",
    "        plt.show()\n",
    "        \n",
    "        print(\"--------Lightcurve \", curves+1, \"--------\")\n",
    "        print(\"Spectral type: \", mk)\n",
    "        print(\"Luminosity class: \", lum_class)\n",
    "        print(\"LC RMS: \", rms)\n",
    "        print(\"LC Mean: \", mean)\n",
    "        print(\"RA: \", ra)\n",
    "        print(\"DEC: \", dec)\n",
    "        print(\"Bes fit period: \", round(best_fit, 3), \"days\")\n",
    "        print(f'Array dimension: {dimension} points')\n",
    "\n",
    "        lc_set[curves] = name\n",
    "        curves += 1\n",
    "               \n",
    "    print (\"Light curves loaded: \",curves+1);\n"
   ]
  },
  {
   "cell_type": "markdown",
   "id": "e92d8ae5",
   "metadata": {},
   "source": [
    "### Plotting the Footprint"
   ]
  },
  {
   "cell_type": "code",
   "execution_count": null,
   "id": "c3bdd384",
   "metadata": {},
   "outputs": [],
   "source": [
    "coords = SkyCoord(ra_list,dec_list,frame='icrs',unit='deg')"
   ]
  },
  {
   "cell_type": "code",
   "execution_count": null,
   "id": "f10e8f57",
   "metadata": {},
   "outputs": [],
   "source": [
    "fig = plt.figure(figsize=(16,8))\n",
    "\n",
    "with World2ScreenMPL(\n",
    "    fig,\n",
    "    fov=320 * u.deg,\n",
    "    center=SkyCoord(100, 0, unit='deg', frame='icrs'),\n",
    "    coordsys=\"icrs\",\n",
    "    rotation=Angle(0, u.degree),\n",
    ") as wcs:\n",
    "    ax = fig.add_subplot(111, projection=wcs, frame_class=EllipticalFrame)\n",
    "    ax.set_title(\"CoRoT library\")\n",
    "    ax.grid(color=\"black\", linestyle=\"dotted\")\n",
    "    ax.scatter(coords.ra,coords.dec,marker='o', s=10,transform=ax.get_transform('world'), zorder=10)\n",
    "    ax.scatter(100 ,9 ,marker='*',color = 'r', s=100,transform=ax.get_transform('world'),zorder=10)\n",
    "\n",
    "plt.savefig('CoRot_footprint.png', transparent=True)\n",
    "\n",
    "    "
   ]
  },
  {
   "cell_type": "markdown",
   "id": "497709aa",
   "metadata": {},
   "source": [
    "### Data overview"
   ]
  },
  {
   "cell_type": "code",
   "execution_count": null,
   "id": "8c875d6f",
   "metadata": {},
   "outputs": [],
   "source": [
    "mk_list"
   ]
  },
  {
   "cell_type": "code",
   "execution_count": null,
   "id": "2c2751b3",
   "metadata": {},
   "outputs": [],
   "source": [
    "mk_list[0][0]# note mapping O=C B=B A=A F=F G=G K=D M=E"
   ]
  },
  {
   "cell_type": "code",
   "execution_count": null,
   "id": "1ec9db03",
   "metadata": {},
   "outputs": [],
   "source": [
    "mk_list[0][1]# octave"
   ]
  },
  {
   "cell_type": "code",
   "execution_count": null,
   "id": "951a1eae",
   "metadata": {},
   "outputs": [],
   "source": [
    "lumclass_list"
   ]
  },
  {
   "cell_type": "code",
   "execution_count": null,
   "id": "2de87b6b",
   "metadata": {},
   "outputs": [],
   "source": [
    "lumclass_list[4] == \"IV\""
   ]
  },
  {
   "cell_type": "code",
   "execution_count": null,
   "id": "7c23551d",
   "metadata": {},
   "outputs": [],
   "source": [
    "mean_list"
   ]
  },
  {
   "cell_type": "code",
   "execution_count": null,
   "id": "f02b57f8",
   "metadata": {},
   "outputs": [],
   "source": [
    "print(\"Mean Max: \", max(mean_list)) # normalized (0.2 - 1)\n",
    "print(\"Mean Min: \",min(mean_list))"
   ]
  },
  {
   "cell_type": "code",
   "execution_count": null,
   "id": "e25443a3",
   "metadata": {},
   "outputs": [],
   "source": [
    "rms_list"
   ]
  },
  {
   "cell_type": "code",
   "execution_count": null,
   "id": "54899393",
   "metadata": {},
   "outputs": [],
   "source": [
    "period_list"
   ]
  },
  {
   "cell_type": "code",
   "execution_count": null,
   "id": "af869987",
   "metadata": {
    "scrolled": true
   },
   "outputs": [],
   "source": [
    "print(\"Mean Max: \", max(period_list)) # invert => frequency\n",
    "print(\"Mean Min: \",min(period_list))"
   ]
  },
  {
   "cell_type": "markdown",
   "id": "a22cd114",
   "metadata": {},
   "source": [
    "### Saving to provide real time sonification"
   ]
  },
  {
   "cell_type": "code",
   "execution_count": null,
   "id": "8beef234",
   "metadata": {},
   "outputs": [],
   "source": [
    "np.save('flux_data', flux_data)"
   ]
  },
  {
   "cell_type": "code",
   "execution_count": null,
   "id": "ac8af203",
   "metadata": {},
   "outputs": [],
   "source": [
    "np.save('jds_data', jds_data)"
   ]
  },
  {
   "cell_type": "code",
   "execution_count": null,
   "id": "5c8eaaf6",
   "metadata": {},
   "outputs": [],
   "source": [
    "np.save('mk_list.npy', mk_list)"
   ]
  },
  {
   "cell_type": "code",
   "execution_count": null,
   "id": "9838dc1c",
   "metadata": {},
   "outputs": [],
   "source": [
    "np.save('lumclass_list', lumclass_list)"
   ]
  },
  {
   "cell_type": "code",
   "execution_count": null,
   "id": "f3dda75d",
   "metadata": {},
   "outputs": [],
   "source": [
    "np.save('mean_list', mean_list)"
   ]
  },
  {
   "cell_type": "code",
   "execution_count": null,
   "id": "d5e06666",
   "metadata": {},
   "outputs": [],
   "source": [
    "np.save('rms_list', rms_list)"
   ]
  },
  {
   "cell_type": "code",
   "execution_count": null,
   "id": "16567a1d",
   "metadata": {},
   "outputs": [],
   "source": [
    "np.save('period_list', period_list)"
   ]
  },
  {
   "cell_type": "code",
   "execution_count": null,
   "id": "a41e5f8b",
   "metadata": {},
   "outputs": [],
   "source": [
    "np.save('ra_list', ra_list)"
   ]
  },
  {
   "cell_type": "code",
   "execution_count": null,
   "id": "d91e6986",
   "metadata": {},
   "outputs": [],
   "source": [
    "np.save('dec_list', dec_list)"
   ]
  },
  {
   "cell_type": "code",
   "execution_count": null,
   "id": "96ce7411",
   "metadata": {},
   "outputs": [],
   "source": [
    "np.save('dimensions_list', dimensions_list)"
   ]
  },
  {
   "cell_type": "code",
   "execution_count": null,
   "id": "9d764cca",
   "metadata": {},
   "outputs": [],
   "source": [
    "np.save('names_list', names_list)"
   ]
  }
 ],
 "metadata": {
  "kernelspec": {
   "display_name": "Python 3 (ipykernel)",
   "language": "python",
   "name": "python3"
  },
  "language_info": {
   "codemirror_mode": {
    "name": "ipython",
    "version": 3
   },
   "file_extension": ".py",
   "mimetype": "text/x-python",
   "name": "python",
   "nbconvert_exporter": "python",
   "pygments_lexer": "ipython3",
   "version": "3.8.5"
  }
 },
 "nbformat": 4,
 "nbformat_minor": 5
}
