{
 "cells": [
  {
   "cell_type": "markdown",
   "id": "62e7750b",
   "metadata": {},
   "source": [
    "## IAS CoRoT lightcurves spatialized Sonification\n",
    "\n",
    "Data download: http://idoc-corot.ias.u-psud.fr/sitools/client-user/COROT_N2_PUBLIC_DATA/project-index.html\n",
    "\n",
    "The CoRoT space mission, launched on 2006 December 27, was developed and operated by the CNES, with participation of the Science Programs of ESA, ESA's RSSD, Austria, Belgium, Brazil, Germany and Spain.\n"
   ]
  },
  {
   "cell_type": "code",
   "execution_count": null,
   "id": "26a447f2",
   "metadata": {},
   "outputs": [],
   "source": [
    "from astropy.io import fits\n",
    "from astropy.timeseries import BoxLeastSquares\n",
    "import matplotlib.pylab as plt\n",
    "import numpy as np\n",
    "\n",
    "import os\n",
    "from pathlib import Path"
   ]
  },
  {
   "cell_type": "code",
   "execution_count": null,
   "id": "7fc03998",
   "metadata": {},
   "outputs": [],
   "source": [
    "from astropy.coordinates import SkyCoord\n",
    "from astropy.visualization.wcsaxes.frame import EllipticalFrame\n",
    "from astropy.coordinates import Angle, SkyCoord\n",
    "from mocpy import MOC, World2ScreenMPL\n",
    "import astropy.units as u"
   ]
  },
  {
   "cell_type": "code",
   "execution_count": null,
   "id": "87448048",
   "metadata": {},
   "outputs": [],
   "source": [
    "import pygame.midi\n",
    "import librosa\n",
    "import time\n",
    "from pythonosc import udp_client\n",
    "from math import log"
   ]
  },
  {
   "cell_type": "markdown",
   "id": "6d747386",
   "metadata": {},
   "source": [
    "### Loading data"
   ]
  },
  {
   "cell_type": "code",
   "execution_count": null,
   "id": "cdda4f0d",
   "metadata": {},
   "outputs": [],
   "source": [
    "flux_data = np.load('flux_data.npy', allow_pickle=True)\n",
    "jds_data = np.load('jds_data.npy', allow_pickle=True)\n",
    "mk_list = np.load('mk_list.npy')\n",
    "lumclass_list = np.load('lumclass_list.npy')\n",
    "mean_list = np.load('mean_list.npy')\n",
    "rms_list = np.load('rms_list.npy')\n",
    "period_list = np.load('period_list.npy')\n",
    "ra_list = np.load('ra_list.npy')\n",
    "dec_list = np.load('dec_list.npy')\n",
    "names_list = np.load('names_list.npy')\n",
    "dimensions_list = np.load('dimensions_list.npy')"
   ]
  },
  {
   "cell_type": "markdown",
   "id": "f21e8ae4",
   "metadata": {},
   "source": [
    "### Fitting and cleaning data"
   ]
  },
  {
   "cell_type": "code",
   "execution_count": null,
   "id": "7bd14561",
   "metadata": {},
   "outputs": [],
   "source": [
    "min_mean = min(mean_list)\n",
    "max_mean = max(mean_list)\n",
    "print(min_mean, max_mean)"
   ]
  },
  {
   "cell_type": "code",
   "execution_count": null,
   "id": "9c51fd3d",
   "metadata": {},
   "outputs": [],
   "source": [
    "Y_min, Y_max = 0.2, 1 \n",
    "mean = Y_min + (Y_max - Y_min) * (mean_list - min_mean) / (max_mean - min_mean)"
   ]
  },
  {
   "cell_type": "code",
   "execution_count": null,
   "id": "a076648a",
   "metadata": {},
   "outputs": [],
   "source": [
    "print(min(mean_list), max(mean_list)) # Amplitudes"
   ]
  },
  {
   "cell_type": "markdown",
   "id": "3b3a325d",
   "metadata": {},
   "source": [
    "### Spectral type to note conversion"
   ]
  },
  {
   "cell_type": "code",
   "execution_count": null,
   "id": "bae1f277",
   "metadata": {},
   "outputs": [],
   "source": [
    "mk_list # note / octave"
   ]
  },
  {
   "cell_type": "code",
   "execution_count": null,
   "id": "13dee04b",
   "metadata": {},
   "outputs": [],
   "source": [
    "mk_note = np.copy(mk_list)"
   ]
  },
  {
   "cell_type": "code",
   "execution_count": null,
   "id": "2b1b8512",
   "metadata": {},
   "outputs": [],
   "source": [
    "mk_note = np.char.replace(mk_note, \"O\", \"C\")"
   ]
  },
  {
   "cell_type": "code",
   "execution_count": null,
   "id": "5572ccc2",
   "metadata": {},
   "outputs": [],
   "source": [
    "mk_note = np.char.replace(mk_note, \"K\", \"D\")"
   ]
  },
  {
   "cell_type": "code",
   "execution_count": null,
   "id": "e844a9ab",
   "metadata": {},
   "outputs": [],
   "source": [
    "mk_note = np.char.replace(mk_note, \"M\", \"E\")\n",
    "mk_note"
   ]
  },
  {
   "cell_type": "markdown",
   "id": "09bddc43",
   "metadata": {},
   "source": [
    "### Luminosity class conversion to integers"
   ]
  },
  {
   "cell_type": "code",
   "execution_count": null,
   "id": "98d6c50b",
   "metadata": {},
   "outputs": [],
   "source": [
    "lumclass_list[0]"
   ]
  },
  {
   "cell_type": "code",
   "execution_count": null,
   "id": "0bb7d6c7",
   "metadata": {},
   "outputs": [],
   "source": [
    "lumclass_list"
   ]
  },
  {
   "cell_type": "code",
   "execution_count": null,
   "id": "ea5b8172",
   "metadata": {},
   "outputs": [],
   "source": [
    "ones = 0\n",
    "twos = 0\n",
    "threes = 0\n",
    "fours = 0\n",
    "fives = 0\n",
    "sixs = 0\n",
    "sevens = 0\n",
    "eights = 0\n",
    "empties = 0\n",
    "lumclass_num = np.copy(lumclass_list)\n",
    "for i in range(len(lumclass_list)):\n",
    "    if lumclass_list[i] == \"I\":\n",
    "        lumclass_num[i] = \"1\"\n",
    "        ones += 1\n",
    "    if lumclass_list[i] == \"II\":\n",
    "        lumclass_num[i] = \"2\"\n",
    "        twos +=1\n",
    "    if lumclass_list[i] == \"III\":\n",
    "        lumclass_num[i] = \"3\"\n",
    "        threes += 1\n",
    "    if lumclass_list[i] == \"IV\":\n",
    "        lumclass_num[i] = \"4\"\n",
    "        fours += 1\n",
    "    if lumclass_list[i] == \"V\":\n",
    "        lumclass_num[i] = \"5\"\n",
    "        fives += 1\n",
    "    if lumclass_list[i] == \"VI\":\n",
    "        lumclass_num[i] = \"6\"\n",
    "        sixs += 1\n",
    "    if lumclass_list[i] == \"VII\":\n",
    "        lumclass_num[i] = \"7\"\n",
    "        sevens += 1\n",
    "    if lumclass_list[i] == \"VIII\":\n",
    "        lumclass_num[i] = \"8\"\n",
    "        eights += 1\n",
    "    if lumclass_list[i] == \"\":\n",
    "        lumclass_num[i] = \"0\"\n",
    "        empties += 1\n",
    " "
   ]
  },
  {
   "cell_type": "code",
   "execution_count": null,
   "id": "f4f71e5a",
   "metadata": {},
   "outputs": [],
   "source": [
    "lumclass_num"
   ]
  },
  {
   "cell_type": "code",
   "execution_count": null,
   "id": "5100d1f4",
   "metadata": {},
   "outputs": [],
   "source": [
    "print(len(lumclass_list))\n",
    "print(ones, twos, threes, fours, fives, sixs, sevens, eights, empties)"
   ]
  },
  {
   "cell_type": "markdown",
   "id": "0476c249",
   "metadata": {},
   "source": [
    "### Launching sonification"
   ]
  },
  {
   "cell_type": "code",
   "execution_count": null,
   "id": "3fd1ff34",
   "metadata": {},
   "outputs": [],
   "source": [
    "pygame.midi.init()\n",
    "pygame.midi.get_count() #Bluetooth Keyboard #4 => 10 I/O"
   ]
  },
  {
   "cell_type": "code",
   "execution_count": null,
   "id": "89816b06",
   "metadata": {
    "scrolled": true
   },
   "outputs": [],
   "source": [
    "#pygame initialization\n",
    "pygame.midi.init() #The port changes with MIDI I/O bus assignment. Ex: With 4 buses--> 0-3 Input / 4-7 Output\n",
    "player0 = pygame.midi.Output(5)\n",
    "\n",
    "curves = 0\n",
    "previous_note = 0\n",
    "\n",
    "for i in range(len(mk_list)):\n",
    "    if mk_list[i] == '':\n",
    "        i += 1\n",
    "    else:\n",
    "        if mk_list[i] == previous_note:\n",
    "            i += 1\n",
    "        else:\n",
    "            try:\n",
    "                note_on = pygame.midi.frequency_to_midi(librosa.note_to_hz(mk_list[i]))\n",
    "                \n",
    "                print(\"____________________________________\")\n",
    "                print(\"Loading data: light curve \", curves+1)\n",
    "                print(names_list[i])\n",
    "                previous_note = mk_list[i]\n",
    "               #------------------------------        \n",
    "                fig, ax = plt.subplots()\n",
    "                fig.set_size_inches(20., 8.)\n",
    "                ax.plot(jds_data[i], flux_data[i], 'r.')\n",
    "              #  ax.set_ylim((mean_list[curves] - 10000), (mean_list[curves] + 10000))\n",
    "                fig.suptitle(names_list[i])\n",
    "                ax.set_ylabel(\"White Flux (e-/32s)\")\n",
    "                ax.set_xlabel(\"Time (JD)\")\n",
    "                plt.savefig('Lc.png', transparent=True)\n",
    "                plt.show()\n",
    "\n",
    "                #------------------------------\n",
    "\n",
    "                coords = SkyCoord(ra_list , dec_list,frame='icrs',unit='deg')    \n",
    "                fig2 = plt.figure(figsize=(16,8))\n",
    "\n",
    "                with World2ScreenMPL(\n",
    "                    fig2,\n",
    "                    fov=320 * u.deg,\n",
    "                    center=SkyCoord(100, 0, unit='deg', frame='icrs'),\n",
    "                    coordsys=\"icrs\",\n",
    "                    rotation=Angle(0, u.degree),\n",
    "                ) as wcs:\n",
    "                    ax2 = fig2.add_subplot(111, projection=wcs, frame_class=EllipticalFrame)\n",
    "                    ax2.set_title(\"CoRoT library\")\n",
    "                    ax2.grid(color=\"black\", linestyle=\"dotted\")\n",
    "                    ax2.scatter(coords.ra,coords.dec,marker='o', s=10,transform=ax2.get_transform('world'), zorder=10)\n",
    "                    ax2.scatter(ra_list[i],dec_list[i],marker='*',color = 'r', s=100,transform=ax2.get_transform('world'),zorder=10)\n",
    "\n",
    "                    plt.savefig('Coord.png', transparent=True)\n",
    "\n",
    "        #---PLAY----  \n",
    "\n",
    "                client_s = udp_client.SimpleUDPClient(\"127.0.0.1\", 9989)\n",
    "                client_s.send_message(\"/s\", 1)\n",
    "\n",
    "                player0.note_on(note_on, 25)#int(lumclass_list[i])*50)\n",
    "                client0 = udp_client.SimpleUDPClient(\"127.0.0.1\", 9996)   \n",
    "                client0.send_message(\"/ra\", ra_list[i])\n",
    "\n",
    "                client1 = udp_client.SimpleUDPClient(\"127.0.0.1\", 9997)   \n",
    "                client1.send_message(\"/dec\", dec_list[i])\n",
    "      #------------------          \n",
    "                client_2 = udp_client.SimpleUDPClient(\"127.0.0.1\", 9995)\n",
    "                client_2.send_message(\"/period\", round(period_list[i], 3))\n",
    "\n",
    "                client_3 = udp_client.SimpleUDPClient(\"127.0.0.1\", 9994)\n",
    "                client_3.send_message(\"/mean\", round(log(mean_list[i])/10, 2))\n",
    "\n",
    "                client_4 = udp_client.SimpleUDPClient(\"127.0.0.1\", 9993)\n",
    "                client_4.send_message(\"/type\", mk_list[i])\n",
    "\n",
    "                client_5 = udp_client.SimpleUDPClient(\"127.0.0.1\", 9992)\n",
    "                client_5.send_message(\"/class\", lumclass_list[i])\n",
    "\n",
    "                client_6 = udp_client.SimpleUDPClient(\"127.0.0.1\", 9991)\n",
    "                client_6.send_message(\"/note\", mk_note[i])\n",
    "\n",
    "                client_7 = udp_client.SimpleUDPClient(\"127.0.0.1\", 9990)\n",
    "                client_7.send_message(\"/class\", int(lumclass_num[i]))\n",
    "\n",
    "\n",
    "      #------------------\n",
    "                print(\"MIDI NOTE: \", note_on)\n",
    "                print(\"--------Lightcurve \", curves+1, \"--------\")\n",
    "                print(\"Spectral type: \", mk_list[i])\n",
    "                print(\"Luminosity class: \", lumclass_list[i])\n",
    "                print(\"LC RMS: \", rms_list[i])\n",
    "                print(\"LC Mean: \", mean_list[i])\n",
    "                print(\"RA: \", ra_list[i])\n",
    "                print(\"DEC: \", dec_list[i])\n",
    "                print(\"Bes fit period: \", round(period_list[i], 3), \"days\")\n",
    "                curves += 1\n",
    "                time.sleep(2)\n",
    "                client_s.send_message(\"/s\", 0)\n",
    "                player0.note_off(note_on, 0)\n",
    "                time.sleep(.05)\n",
    "                curves += 1\n",
    "            except:\n",
    "                print(\"--------Lightcurve \", curves+1, \"--------\")\n",
    "                print(\"ERROR\")\n",
    "                print(\"MIDI NOTE: \", note_on)\n",
    "                print(\"--------Lightcurve \", curves+1, \"--------\")\n",
    "                print(\"Spectral type: \", mk_list[i])\n",
    "                print(\"Luminosity class: \", lumclass_list[i])\n",
    "                print(\"LC RMS: \", rms_list[i])\n",
    "                print(\"LC Mean: \", mean_list[i])\n",
    "                print(\"RA: \", ra_list[i])\n",
    "                print(\"DEC: \", dec_list[i])\n",
    "                print(\"Bes fit period: \", round(period_list[i], 3), \"days\")\n",
    "                curves += 1\n",
    "                #note_on = 200\n",
    "\n",
    "\n",
    "print (\"Light curves loaded: \",curves+1);\n",
    "del player0    \n",
    "pygame.midi.quit()\n",
    "\n",
    "\n"
   ]
  },
  {
   "cell_type": "code",
   "execution_count": null,
   "id": "42d321c6",
   "metadata": {},
   "outputs": [],
   "source": [
    "from math import log\n",
    "print(log(min(mean_list))/10)\n",
    "print(log(max(mean_list))/10)\n",
    "log(mean_list[90])/10"
   ]
  }
 ],
 "metadata": {
  "kernelspec": {
   "display_name": "Python 3 (ipykernel)",
   "language": "python",
   "name": "python3"
  },
  "language_info": {
   "codemirror_mode": {
    "name": "ipython",
    "version": 3
   },
   "file_extension": ".py",
   "mimetype": "text/x-python",
   "name": "python",
   "nbconvert_exporter": "python",
   "pygments_lexer": "ipython3",
   "version": "3.8.5"
  }
 },
 "nbformat": 4,
 "nbformat_minor": 5
}
